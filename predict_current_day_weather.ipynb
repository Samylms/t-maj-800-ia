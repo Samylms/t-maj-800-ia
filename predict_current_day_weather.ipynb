{
 "cells": [
  {
   "cell_type": "markdown",
   "metadata": {
    "_cell_guid": "083655f5-e037-4410-b337-d27af6c124db",
    "_uuid": "0a65615471c844c63f54de7a7d7078d5211b3fa0"
   },
   "source": [
    "# Weather forecast\n",
    "We will predict upcomming events for current day of Austin City by feeding the model with data about\n",
    "* Temperature\n",
    "* Dew point temperature\n",
    "* Humidity percentage\n",
    "* Sea level pressure\n",
    "* Visibility\n",
    "* Wind speed\n",
    "* Percipitation"
   ]
  },
  {
   "cell_type": "code",
   "execution_count": 1,
   "metadata": {
    "_cell_guid": "e6cd03e7-eddb-4e38-953d-4fd5ee74752a",
    "_uuid": "9eb5147116a7158c9a04f6453f936d4305b6d605"
   },
   "outputs": [],
   "source": [
    "import numpy as np # linear algebra\n",
    "import pandas as pd # data processing, CSV file I/O (e.g. pd.read_csv)\n",
    "import matplotlib.pyplot as plt"
   ]
  },
  {
   "cell_type": "markdown",
   "metadata": {
    "_cell_guid": "669fe619-edaf-4ef1-ba6f-df3551b9a394",
    "_uuid": "455487b133a3efeb74934d7b9fb82de474b2ec00"
   },
   "source": [
    "### Get data (X) and events (y) from CSV file"
   ]
  },
  {
   "cell_type": "code",
   "execution_count": 2,
   "metadata": {
    "_cell_guid": "b1076dfc-b9ad-4769-8c92-a6c4dae69d19",
    "_uuid": "8f2839f25d086af736a60e9eeb907d3b93b6e0e5",
    "scrolled": true
   },
   "outputs": [],
   "source": [
    "df = pd.read_csv('data_input/austin_weather.csv')\n",
    "df.set_index('Date').sort_index()\n",
    "\n",
    "# use average data only\n",
    "columns_of_interest = ['TempAvgF','DewPointAvgF', 'HumidityAvgPercent', 'SeaLevelPressureAvgInches', 'VisibilityAvgMiles', 'WindAvgMPH', 'PrecipitationSumInches']\n",
    "data = df[columns_of_interest]\n",
    "events = df[['Events']].replace(' ', 'None')"
   ]
  },
  {
   "cell_type": "markdown",
   "metadata": {
    "_cell_guid": "79c7e3d0-c299-4dcb-8224-4455121ee9b0",
    "_uuid": "d629ff2d2480ee46fbb7e2d37f6b5fab8052498a",
    "collapsed": true
   },
   "source": [
    "## Data exploration\n",
    "\n",
    "\n",
    "Let's see what lies in column that will become our prediction / source of truth for training:\n",
    "### Plot event categories"
   ]
  },
  {
   "cell_type": "code",
   "execution_count": 3,
   "metadata": {
    "_cell_guid": "2ece8221-1d6b-4ee7-8a3b-180445053070",
    "_uuid": "c2d84526f76c3fa2949fc47a8be0e21b288dc90b"
   },
   "outputs": [
    {
     "data": {
      "text/plain": [
       "<matplotlib.axes._subplots.AxesSubplot at 0x18a1c8114a8>"
      ]
     },
     "execution_count": 3,
     "metadata": {},
     "output_type": "execute_result"
    },
    {
     "data": {
      "image/png": "[encoded data removed]",
      "text/plain": [
       "<Figure size 720x360 with 1 Axes>"
      ]
     },
     "metadata": {
      "needs_background": "light"
     },
     "output_type": "display_data"
    }
   ],
   "source": [
    "events.Events.value_counts().plot(kind='bar', figsize=(10,5))"
   ]
  },
  {
   "cell_type": "markdown",
   "metadata": {
    "_cell_guid": "d370af9a-70de-4fdf-b55b-520fc997069a",
    "_uuid": "de13e49670779a4b2482c056f161b4b6efe3679f"
   },
   "source": [
    "We have information what events occurred for given weather parameters. \n",
    "\n",
    "We can see that single column combines multiple events.\n",
    "\n",
    "Separating them seems to be a good idea as it will allow us to predict all of the events combinations independently.\n",
    "\n",
    "Let's see what unique categories do we have in Events column:"
   ]
  },
  {
   "cell_type": "markdown",
   "metadata": {
    "_cell_guid": "3ea8311c-f2fb-4017-a6b5-35b160e9e9ae",
    "_uuid": "7afdff3b042430c31dea7eda74fa1716f3cd88da"
   },
   "source": [
    "### Get unique events categories"
   ]
  },
  {
   "cell_type": "code",
   "execution_count": 4,
   "metadata": {
    "_cell_guid": "968aef20-a502-495d-bc71-562559c799a2",
    "_uuid": "d8949f906fccb4695e287e3b00919faea97009a5"
   },
   "outputs": [
    {
     "data": {
      "text/plain": [
       "{'Fog', 'None', 'Rain', 'Snow', 'Thunderstorm'}"
      ]
     },
     "execution_count": 4,
     "metadata": {},
     "output_type": "execute_result"
    }
   ],
   "source": [
    "unique_events = set()\n",
    "for value in events.Events.value_counts().index:\n",
    "    splitted = [x.strip() for x in value.split(',')]\n",
    "    unique_events.update(splitted)\n",
    "unique_events"
   ]
  },
  {
   "cell_type": "markdown",
   "metadata": {
    "_cell_guid": "ad5867ff-2e7b-4415-b7e0-972c7ab831ca",
    "_uuid": "33101a9f1fb2e880f0b58c353c09d87f1cc6ff5a"
   },
   "source": [
    "Now we can try to generate histogram of independent event. \n",
    "\n",
    "We will see that \"Snow\" occurred only once.\n",
    "\n",
    "### Print histogram with single events only"
   ]
  },
  {
   "cell_type": "code",
   "execution_count": 5,
   "metadata": {
    "_cell_guid": "51967dc0-fe73-4a9d-9bff-8da6a2c2e5c9",
    "_uuid": "2ff8b5702da2d0213e0962e7ab32ba53b1a733fe"
   },
   "outputs": [
    {
     "data": {
      "image/png": "[encoded data removed]",
      "text/plain": [
       "<Figure size 720x360 with 1 Axes>"
      ]
     },
     "metadata": {
      "needs_background": "light"
     },
     "output_type": "display_data"
    }
   ],
   "source": [
    "single_events = pd.DataFrame()\n",
    "for event_type in unique_events:\n",
    "    event_occurred = events.Events.str.contains(event_type)\n",
    "    single_events = pd.concat([single_events, pd.DataFrame(data={event_type: event_occurred.values})], join='outer', axis=1)\n",
    "\n",
    "#single_events.head()\n",
    "ax = single_events.sum().sort_values(ascending=False).plot.bar(figsize=(10,5))\n",
    "ax.set_title(\"Weather events in dataset\", fontsize=18)\n",
    "ax.set_ylabel(\"Number of occurrences\", fontsize=14)\n",
    "for i in ax.patches:\n",
    "    ax.text(i.get_x()+.18, i.get_height()+5, i.get_height(), fontsize=12)"
   ]
  },
  {
   "cell_type": "markdown",
   "metadata": {
    "_cell_guid": "33a6eb2e-e15e-433f-b265-934ba4823888",
    "_uuid": "e85993a7098cc75a10fcb8b813727c4755d61e42"
   },
   "source": [
    "At this point we also have a nice table of predictions with events separated:"
   ]
  },
  {
   "cell_type": "code",
   "execution_count": 6,
   "metadata": {
    "_cell_guid": "d09d0912-c8aa-4e81-8b09-e2615a557583",
    "_uuid": "761ef0bbc2638a83957d08200e95195f95cf04ee"
   },
   "outputs": [
    {
     "data": {
      "text/html": [
       "<div>\n",
       "<style scoped>\n",
       "    .dataframe tbody tr th:only-of-type {\n",
       "        vertical-align: middle;\n",
       "    }\n",
       "\n",
       "    .dataframe tbody tr th {\n",
       "        vertical-align: top;\n",
       "    }\n",
       "\n",
       "    .dataframe thead th {\n",
       "        text-align: right;\n",
       "    }\n",
       "</style>\n",
       "<table border=\"1\" class=\"dataframe\">\n",
       "  <thead>\n",
       "    <tr style=\"text-align: right;\">\n",
       "      <th></th>\n",
       "      <th>Rain</th>\n",
       "      <th>Thunderstorm</th>\n",
       "      <th>None</th>\n",
       "      <th>Snow</th>\n",
       "      <th>Fog</th>\n",
       "    </tr>\n",
       "  </thead>\n",
       "  <tbody>\n",
       "    <tr>\n",
       "      <th>0</th>\n",
       "      <td>True</td>\n",
       "      <td>True</td>\n",
       "      <td>False</td>\n",
       "      <td>False</td>\n",
       "      <td>False</td>\n",
       "    </tr>\n",
       "    <tr>\n",
       "      <th>1</th>\n",
       "      <td>False</td>\n",
       "      <td>False</td>\n",
       "      <td>True</td>\n",
       "      <td>False</td>\n",
       "      <td>False</td>\n",
       "    </tr>\n",
       "    <tr>\n",
       "      <th>2</th>\n",
       "      <td>False</td>\n",
       "      <td>False</td>\n",
       "      <td>True</td>\n",
       "      <td>False</td>\n",
       "      <td>False</td>\n",
       "    </tr>\n",
       "    <tr>\n",
       "      <th>3</th>\n",
       "      <td>False</td>\n",
       "      <td>False</td>\n",
       "      <td>True</td>\n",
       "      <td>False</td>\n",
       "      <td>False</td>\n",
       "    </tr>\n",
       "    <tr>\n",
       "      <th>4</th>\n",
       "      <td>False</td>\n",
       "      <td>False</td>\n",
       "      <td>True</td>\n",
       "      <td>False</td>\n",
       "      <td>False</td>\n",
       "    </tr>\n",
       "  </tbody>\n",
       "</table>\n",
       "</div>"
      ],
      "text/plain": [
       "    Rain  Thunderstorm   None   Snow    Fog\n",
       "0   True          True  False  False  False\n",
       "1  False         False   True  False  False\n",
       "2  False         False   True  False  False\n",
       "3  False         False   True  False  False\n",
       "4  False         False   True  False  False"
      ]
     },
     "execution_count": 6,
     "metadata": {},
     "output_type": "execute_result"
    }
   ],
   "source": [
    "single_events.head()"
   ]
  },
  {
   "cell_type": "markdown",
   "metadata": {
    "_cell_guid": "f3798cbf-ab02-4fe7-b1b7-12111e172bd3",
    "_uuid": "0f2d60c7e0743c68c538b8645b0feb24961cb84a"
   },
   "source": [
    "During exploration I noticed that PrecipitationSumInches colum has mysterious \"T\" values which means \"Trace\". It means that there was a trace of rain but it was not measureable.\n",
    "\n",
    "Let's check if all other values in this column are numbers or do we have anything else there:\n",
    "\n",
    "### Check how many traces do we have in PrecipitationSumInches collumn"
   ]
  },
  {
   "cell_type": "code",
   "execution_count": 7,
   "metadata": {
    "_cell_guid": "8b6fb9dc-d0c3-47d9-b863-c243d709cdf6",
    "_uuid": "1a275289cba031f0d7ff5e46c0a6e30b6c3ee879"
   },
   "outputs": [
    {
     "data": {
      "text/plain": [
       "T    124\n",
       "Name: PrecipitationSumInches, dtype: int64"
      ]
     },
     "execution_count": 7,
     "metadata": {},
     "output_type": "execute_result"
    }
   ],
   "source": [
    "precipitation = data[pd.to_numeric(data.PrecipitationSumInches, errors='coerce').isnull()].PrecipitationSumInches.value_counts()\n",
    "precipitation"
   ]
  },
  {
   "cell_type": "markdown",
   "metadata": {
    "_cell_guid": "38dd69e8-ce16-4e87-9326-b857e251ac53",
    "_uuid": "9843a478d380cfa5bb7e623f448534988c4358b3"
   },
   "source": [
    "Let's check rest of the columns with non-numeric values:\n",
    "### Find all non numeric rows in data frame"
   ]
  },
  {
   "cell_type": "code",
   "execution_count": 8,
   "metadata": {
    "_cell_guid": "323b6faf-db8b-4383-b276-6cae7c3de012",
    "_uuid": "93cfcb3a57d313ddc19fb3dde5a5561e04faf56d"
   },
   "outputs": [
    {
     "name": "stdout",
     "output_type": "stream",
     "text": [
      "Non numeric rows: 134\n"
     ]
    }
   ],
   "source": [
    "# this function returns array with one item for each row\n",
    "# each item indicates if the row with columns of our interest had non-numeric data\n",
    "def isColumnNotNumeric(columns_of_interest, data):\n",
    "    result = np.zeros(data.shape[0], dtype=bool)\n",
    "    for column_name in columns_of_interest:\n",
    "        result = result | pd.to_numeric(data[column_name], errors='coerce').isnull()\n",
    "    return result\n",
    "\n",
    "def getDataFrameWithNonNumericRows(dataFrame):\n",
    "    return data[isColumnNotNumeric(columns_of_interest, data)]\n",
    "\n",
    "non_numeric_rows_count = getDataFrameWithNonNumericRows(data).shape[0]\n",
    "\n",
    "print(\"Non numeric rows: {0}\".format(non_numeric_rows_count))"
   ]
  },
  {
   "cell_type": "markdown",
   "metadata": {
    "_cell_guid": "6a33facc-51e8-47bf-a51a-211c5e5c3c77",
    "_uuid": "af20e61c4b6e84dac09ece45fd54ac938cf68be4",
    "collapsed": true
   },
   "source": [
    "## Data transformations\n",
    "\n",
    "### Replace \"Trace\" values in PrecipitationSumInches with 0 and add another column PercipitationTrace\n",
    "This new column will get values 0 if there was no trace of precipitation and 1 if there was a trace"
   ]
  },
  {
   "cell_type": "code",
   "execution_count": 9,
   "metadata": {
    "_cell_guid": "8fab278d-db12-408f-9829-9ca7e8bc817d",
    "_uuid": "02b2fe59a688d9834bd2a50d68c9f80aaa6201b0"
   },
   "outputs": [
    {
     "name": "stderr",
     "output_type": "stream",
     "text": [
      "c:\\users\\sam\\appdata\\local\\programs\\python\\python37\\lib\\site-packages\\ipykernel_launcher.py:9: SettingWithCopyWarning: \n",
      "A value is trying to be set on a copy of a slice from a DataFrame.\n",
      "Try using .loc[row_indexer,col_indexer] = value instead\n",
      "\n",
      "See the caveats in the documentation: https://pandas.pydata.org/pandas-docs/stable/user_guide/indexing.html#returning-a-view-versus-a-copy\n",
      "  if __name__ == '__main__':\n"
     ]
    },
    {
     "data": {
      "text/html": [
       "<div>\n",
       "<style scoped>\n",
       "    .dataframe tbody tr th:only-of-type {\n",
       "        vertical-align: middle;\n",
       "    }\n",
       "\n",
       "    .dataframe tbody tr th {\n",
       "        vertical-align: top;\n",
       "    }\n",
       "\n",
       "    .dataframe thead th {\n",
       "        text-align: right;\n",
       "    }\n",
       "</style>\n",
       "<table border=\"1\" class=\"dataframe\">\n",
       "  <thead>\n",
       "    <tr style=\"text-align: right;\">\n",
       "      <th></th>\n",
       "      <th>TempAvgF</th>\n",
       "      <th>DewPointAvgF</th>\n",
       "      <th>HumidityAvgPercent</th>\n",
       "      <th>SeaLevelPressureAvgInches</th>\n",
       "      <th>VisibilityAvgMiles</th>\n",
       "      <th>WindAvgMPH</th>\n",
       "      <th>PrecipitationSumInches</th>\n",
       "      <th>PrecipitationTrace</th>\n",
       "    </tr>\n",
       "  </thead>\n",
       "  <tbody>\n",
       "    <tr>\n",
       "      <th>0</th>\n",
       "      <td>60</td>\n",
       "      <td>49</td>\n",
       "      <td>75</td>\n",
       "      <td>29.68</td>\n",
       "      <td>7</td>\n",
       "      <td>4</td>\n",
       "      <td>0.46</td>\n",
       "      <td>0</td>\n",
       "    </tr>\n",
       "    <tr>\n",
       "      <th>1</th>\n",
       "      <td>48</td>\n",
       "      <td>36</td>\n",
       "      <td>68</td>\n",
       "      <td>30.13</td>\n",
       "      <td>10</td>\n",
       "      <td>6</td>\n",
       "      <td>0.00</td>\n",
       "      <td>0</td>\n",
       "    </tr>\n",
       "    <tr>\n",
       "      <th>2</th>\n",
       "      <td>45</td>\n",
       "      <td>27</td>\n",
       "      <td>52</td>\n",
       "      <td>30.49</td>\n",
       "      <td>10</td>\n",
       "      <td>3</td>\n",
       "      <td>0.00</td>\n",
       "      <td>0</td>\n",
       "    </tr>\n",
       "    <tr>\n",
       "      <th>3</th>\n",
       "      <td>46</td>\n",
       "      <td>28</td>\n",
       "      <td>56</td>\n",
       "      <td>30.45</td>\n",
       "      <td>10</td>\n",
       "      <td>4</td>\n",
       "      <td>0.00</td>\n",
       "      <td>0</td>\n",
       "    </tr>\n",
       "    <tr>\n",
       "      <th>4</th>\n",
       "      <td>50</td>\n",
       "      <td>40</td>\n",
       "      <td>71</td>\n",
       "      <td>30.33</td>\n",
       "      <td>10</td>\n",
       "      <td>2</td>\n",
       "      <td>0.00</td>\n",
       "      <td>1</td>\n",
       "    </tr>\n",
       "    <tr>\n",
       "      <th>5</th>\n",
       "      <td>48</td>\n",
       "      <td>36</td>\n",
       "      <td>63</td>\n",
       "      <td>30.4</td>\n",
       "      <td>9</td>\n",
       "      <td>3</td>\n",
       "      <td>0.00</td>\n",
       "      <td>0</td>\n",
       "    </tr>\n",
       "    <tr>\n",
       "      <th>6</th>\n",
       "      <td>53</td>\n",
       "      <td>39</td>\n",
       "      <td>65</td>\n",
       "      <td>30.39</td>\n",
       "      <td>9</td>\n",
       "      <td>1</td>\n",
       "      <td>0.00</td>\n",
       "      <td>1</td>\n",
       "    </tr>\n",
       "    <tr>\n",
       "      <th>7</th>\n",
       "      <td>51</td>\n",
       "      <td>39</td>\n",
       "      <td>64</td>\n",
       "      <td>30.17</td>\n",
       "      <td>10</td>\n",
       "      <td>2</td>\n",
       "      <td>0.00</td>\n",
       "      <td>1</td>\n",
       "    </tr>\n",
       "    <tr>\n",
       "      <th>8</th>\n",
       "      <td>50</td>\n",
       "      <td>41</td>\n",
       "      <td>76</td>\n",
       "      <td>30.1</td>\n",
       "      <td>10</td>\n",
       "      <td>5</td>\n",
       "      <td>0.00</td>\n",
       "      <td>0</td>\n",
       "    </tr>\n",
       "    <tr>\n",
       "      <th>9</th>\n",
       "      <td>40</td>\n",
       "      <td>26</td>\n",
       "      <td>60</td>\n",
       "      <td>30.33</td>\n",
       "      <td>10</td>\n",
       "      <td>5</td>\n",
       "      <td>0.00</td>\n",
       "      <td>0</td>\n",
       "    </tr>\n",
       "  </tbody>\n",
       "</table>\n",
       "</div>"
      ],
      "text/plain": [
       "   TempAvgF DewPointAvgF HumidityAvgPercent SeaLevelPressureAvgInches  \\\n",
       "0        60           49                 75                     29.68   \n",
       "1        48           36                 68                     30.13   \n",
       "2        45           27                 52                     30.49   \n",
       "3        46           28                 56                     30.45   \n",
       "4        50           40                 71                     30.33   \n",
       "5        48           36                 63                      30.4   \n",
       "6        53           39                 65                     30.39   \n",
       "7        51           39                 64                     30.17   \n",
       "8        50           41                 76                      30.1   \n",
       "9        40           26                 60                     30.33   \n",
       "\n",
       "  VisibilityAvgMiles WindAvgMPH  PrecipitationSumInches  PrecipitationTrace  \n",
       "0                  7          4                    0.46                   0  \n",
       "1                 10          6                    0.00                   0  \n",
       "2                 10          3                    0.00                   0  \n",
       "3                 10          4                    0.00                   0  \n",
       "4                 10          2                    0.00                   1  \n",
       "5                  9          3                    0.00                   0  \n",
       "6                  9          1                    0.00                   1  \n",
       "7                 10          2                    0.00                   1  \n",
       "8                 10          5                    0.00                   0  \n",
       "9                 10          5                    0.00                   0  "
      ]
     },
     "execution_count": 9,
     "metadata": {},
     "output_type": "execute_result"
    }
   ],
   "source": [
    "def numberOrZero(value):\n",
    "    try:\n",
    "        parsed = float(value)\n",
    "        return parsed\n",
    "    except:\n",
    "        return 0\n",
    "# this line is unnecessary if we run script from top to bottom, \n",
    "# but it helps debugging this part of code to get fresh PrecipitationSumInches column\n",
    "data['PrecipitationSumInches'] = df['PrecipitationSumInches']\n",
    "\n",
    "#Find rows indices with \"T\" values\n",
    "has_precipitation_trace_series = isColumnNotNumeric(['PrecipitationSumInches'], data).astype(int)\n",
    "#data['PrecipitationTrace'] = has_precipitation_trace_series\n",
    "#data.loc[:,'PrecipitationTrace'] = has_precipitation_trace_series\n",
    "data = data.assign(PrecipitationTrace=has_precipitation_trace_series.values)\n",
    "\n",
    "data['PrecipitationSumInches'] = data['PrecipitationSumInches'].apply(numberOrZero)\n",
    "data.iloc[0:10,:]"
   ]
  },
  {
   "cell_type": "markdown",
   "metadata": {
    "_cell_guid": "b87caf1f-fcab-43c5-bf34-d63eecac9df1",
    "_uuid": "ad5621c08cd04101be312cf2772af8f01997b93c"
   },
   "source": [
    "Check how many non numeric rows we still have"
   ]
  },
  {
   "cell_type": "code",
   "execution_count": 10,
   "metadata": {
    "_cell_guid": "1d8880ba-9623-4802-b8c5-e5142808d1a6",
    "_uuid": "ddcc140b48de6ad691c9d46ce98bd9d9ccbfece1"
   },
   "outputs": [
    {
     "data": {
      "text/html": [
       "<div>\n",
       "<style scoped>\n",
       "    .dataframe tbody tr th:only-of-type {\n",
       "        vertical-align: middle;\n",
       "    }\n",
       "\n",
       "    .dataframe tbody tr th {\n",
       "        vertical-align: top;\n",
       "    }\n",
       "\n",
       "    .dataframe thead th {\n",
       "        text-align: right;\n",
       "    }\n",
       "</style>\n",
       "<table border=\"1\" class=\"dataframe\">\n",
       "  <thead>\n",
       "    <tr style=\"text-align: right;\">\n",
       "      <th></th>\n",
       "      <th>TempAvgF</th>\n",
       "      <th>DewPointAvgF</th>\n",
       "      <th>HumidityAvgPercent</th>\n",
       "      <th>SeaLevelPressureAvgInches</th>\n",
       "      <th>VisibilityAvgMiles</th>\n",
       "      <th>WindAvgMPH</th>\n",
       "      <th>PrecipitationSumInches</th>\n",
       "      <th>PrecipitationTrace</th>\n",
       "    </tr>\n",
       "  </thead>\n",
       "  <tbody>\n",
       "    <tr>\n",
       "      <th>174</th>\n",
       "      <td>79</td>\n",
       "      <td>-</td>\n",
       "      <td>75</td>\n",
       "      <td>29.95</td>\n",
       "      <td>-</td>\n",
       "      <td>4</td>\n",
       "      <td>0.0</td>\n",
       "      <td>0</td>\n",
       "    </tr>\n",
       "    <tr>\n",
       "      <th>175</th>\n",
       "      <td>92</td>\n",
       "      <td>-</td>\n",
       "      <td>77</td>\n",
       "      <td>29.93</td>\n",
       "      <td>-</td>\n",
       "      <td>6</td>\n",
       "      <td>0.0</td>\n",
       "      <td>0</td>\n",
       "    </tr>\n",
       "    <tr>\n",
       "      <th>176</th>\n",
       "      <td>83</td>\n",
       "      <td>-</td>\n",
       "      <td>-</td>\n",
       "      <td>29.9</td>\n",
       "      <td>-</td>\n",
       "      <td>9</td>\n",
       "      <td>0.0</td>\n",
       "      <td>0</td>\n",
       "    </tr>\n",
       "    <tr>\n",
       "      <th>177</th>\n",
       "      <td>84</td>\n",
       "      <td>-</td>\n",
       "      <td>72</td>\n",
       "      <td>29.99</td>\n",
       "      <td>-</td>\n",
       "      <td>8</td>\n",
       "      <td>0.0</td>\n",
       "      <td>1</td>\n",
       "    </tr>\n",
       "    <tr>\n",
       "      <th>596</th>\n",
       "      <td>89</td>\n",
       "      <td>-</td>\n",
       "      <td>65</td>\n",
       "      <td>-</td>\n",
       "      <td>-</td>\n",
       "      <td>-</td>\n",
       "      <td>0.0</td>\n",
       "      <td>0</td>\n",
       "    </tr>\n",
       "    <tr>\n",
       "      <th>597</th>\n",
       "      <td>90</td>\n",
       "      <td>-</td>\n",
       "      <td>62</td>\n",
       "      <td>-</td>\n",
       "      <td>-</td>\n",
       "      <td>6</td>\n",
       "      <td>0.0</td>\n",
       "      <td>0</td>\n",
       "    </tr>\n",
       "    <tr>\n",
       "      <th>598</th>\n",
       "      <td>90</td>\n",
       "      <td>-</td>\n",
       "      <td>-</td>\n",
       "      <td>-</td>\n",
       "      <td>-</td>\n",
       "      <td>-</td>\n",
       "      <td>0.0</td>\n",
       "      <td>0</td>\n",
       "    </tr>\n",
       "    <tr>\n",
       "      <th>638</th>\n",
       "      <td>82</td>\n",
       "      <td>63</td>\n",
       "      <td>60</td>\n",
       "      <td>29.96</td>\n",
       "      <td>-</td>\n",
       "      <td>3</td>\n",
       "      <td>0.0</td>\n",
       "      <td>0</td>\n",
       "    </tr>\n",
       "    <tr>\n",
       "      <th>639</th>\n",
       "      <td>84</td>\n",
       "      <td>64</td>\n",
       "      <td>57</td>\n",
       "      <td>29.95</td>\n",
       "      <td>-</td>\n",
       "      <td>4</td>\n",
       "      <td>0.0</td>\n",
       "      <td>0</td>\n",
       "    </tr>\n",
       "    <tr>\n",
       "      <th>741</th>\n",
       "      <td>46</td>\n",
       "      <td>33</td>\n",
       "      <td>60</td>\n",
       "      <td>30.48</td>\n",
       "      <td>-</td>\n",
       "      <td>8</td>\n",
       "      <td>0.0</td>\n",
       "      <td>1</td>\n",
       "    </tr>\n",
       "    <tr>\n",
       "      <th>742</th>\n",
       "      <td>45</td>\n",
       "      <td>34</td>\n",
       "      <td>77</td>\n",
       "      <td>30.42</td>\n",
       "      <td>-</td>\n",
       "      <td>2</td>\n",
       "      <td>0.2</td>\n",
       "      <td>0</td>\n",
       "    </tr>\n",
       "    <tr>\n",
       "      <th>953</th>\n",
       "      <td>88</td>\n",
       "      <td>73</td>\n",
       "      <td>66</td>\n",
       "      <td>29.97</td>\n",
       "      <td>-</td>\n",
       "      <td>6</td>\n",
       "      <td>0.0</td>\n",
       "      <td>0</td>\n",
       "    </tr>\n",
       "  </tbody>\n",
       "</table>\n",
       "</div>"
      ],
      "text/plain": [
       "     TempAvgF DewPointAvgF HumidityAvgPercent SeaLevelPressureAvgInches  \\\n",
       "174        79            -                 75                     29.95   \n",
       "175        92            -                 77                     29.93   \n",
       "176        83            -                  -                      29.9   \n",
       "177        84            -                 72                     29.99   \n",
       "596        89            -                 65                         -   \n",
       "597        90            -                 62                         -   \n",
       "598        90            -                  -                         -   \n",
       "638        82           63                 60                     29.96   \n",
       "639        84           64                 57                     29.95   \n",
       "741        46           33                 60                     30.48   \n",
       "742        45           34                 77                     30.42   \n",
       "953        88           73                 66                     29.97   \n",
       "\n",
       "    VisibilityAvgMiles WindAvgMPH  PrecipitationSumInches  PrecipitationTrace  \n",
       "174                  -          4                     0.0                   0  \n",
       "175                  -          6                     0.0                   0  \n",
       "176                  -          9                     0.0                   0  \n",
       "177                  -          8                     0.0                   1  \n",
       "596                  -          -                     0.0                   0  \n",
       "597                  -          6                     0.0                   0  \n",
       "598                  -          -                     0.0                   0  \n",
       "638                  -          3                     0.0                   0  \n",
       "639                  -          4                     0.0                   0  \n",
       "741                  -          8                     0.0                   1  \n",
       "742                  -          2                     0.2                   0  \n",
       "953                  -          6                     0.0                   0  "
      ]
     },
     "execution_count": 10,
     "metadata": {},
     "output_type": "execute_result"
    }
   ],
   "source": [
    "getDataFrameWithNonNumericRows(data)"
   ]
  },
  {
   "cell_type": "markdown",
   "metadata": {
    "_cell_guid": "f6af6594-e47b-4b0a-bebb-c765d3a82e4c",
    "_uuid": "64e0849628a49c7638a24a1128c6db866c2a13b7"
   },
   "source": [
    "As there are not so many missing values, we can drop missing data.\n",
    "\n",
    "We need to get rows indices first to drop them as well in events table\n",
    "### Drop rows with missing values"
   ]
  },
  {
   "cell_type": "code",
   "execution_count": 11,
   "metadata": {
    "_cell_guid": "c70724fc-91e5-4580-87f4-4e5f497e52c6",
    "_uuid": "eb26878ef01106126036575ac8475a248272a5d0"
   },
   "outputs": [
    {
     "name": "stdout",
     "output_type": "stream",
     "text": [
      "Data rows: 1307, Events rows: 1307\n"
     ]
    }
   ],
   "source": [
    "row_indices_for_missing_values = getDataFrameWithNonNumericRows(data).index.values\n",
    "row_indices_for_missing_values\n",
    "data_prepared = data.drop(row_indices_for_missing_values)\n",
    "events_prepared = single_events.drop(row_indices_for_missing_values)\n",
    "print(\"Data rows: {0}, Events rows: {1}\".format(data_prepared.shape[0], events_prepared.shape[0]))"
   ]
  },
  {
   "cell_type": "markdown",
   "metadata": {
    "_cell_guid": "aee1cdf0-4eb6-4a87-86fa-cf89b4352a82",
    "_uuid": "65c8831e5943392586c1c118cc0db854810db520"
   },
   "source": [
    "### Convert dataframe columns to be treated as numbers"
   ]
  },
  {
   "cell_type": "code",
   "execution_count": 12,
   "metadata": {
    "_cell_guid": "11d49cd4-730f-442d-ac31-50953b0daf68",
    "_uuid": "a0d2bac90ba1c91c2752d7718fbff2340974c8df"
   },
   "outputs": [
    {
     "data": {
      "text/plain": [
       "TempAvgF                       int64\n",
       "DewPointAvgF                  object\n",
       "HumidityAvgPercent            object\n",
       "SeaLevelPressureAvgInches     object\n",
       "VisibilityAvgMiles            object\n",
       "WindAvgMPH                    object\n",
       "PrecipitationSumInches       float64\n",
       "PrecipitationTrace             int32\n",
       "dtype: object"
      ]
     },
     "execution_count": 12,
     "metadata": {},
     "output_type": "execute_result"
    }
   ],
   "source": [
    "data_prepared.dtypes"
   ]
  },
  {
   "cell_type": "code",
   "execution_count": 13,
   "metadata": {
    "_cell_guid": "25b4b350-6f45-4a17-881d-acc63cd0bc89",
    "_uuid": "431f5e166ecbba2af5322560cc3e76201c1853e8"
   },
   "outputs": [
    {
     "data": {
      "text/plain": [
       "TempAvgF                       int64\n",
       "DewPointAvgF                   int64\n",
       "HumidityAvgPercent             int64\n",
       "SeaLevelPressureAvgInches    float64\n",
       "VisibilityAvgMiles             int64\n",
       "WindAvgMPH                     int64\n",
       "PrecipitationSumInches       float64\n",
       "PrecipitationTrace             int32\n",
       "dtype: object"
      ]
     },
     "execution_count": 13,
     "metadata": {},
     "output_type": "execute_result"
    }
   ],
   "source": [
    "data_prepared = data_prepared.apply(pd.to_numeric)\n",
    "data_prepared.dtypes"
   ]
  },
  {
   "cell_type": "markdown",
   "metadata": {
    "_cell_guid": "e85521d0-0e9a-4ceb-96ef-0dcb08b110dc",
    "_uuid": "884d046bb91b6ada33ad8398046400574ef0efe8"
   },
   "source": [
    "### Normalize input data\n"
   ]
  },
  {
   "cell_type": "code",
   "execution_count": 14,
   "metadata": {
    "_cell_guid": "4236bc41-3c18-4f55-ba53-effc4e4b9be1",
    "_uuid": "42f44b4c66fb9bfa9b7345d85bf5a5df3558a0ee"
   },
   "outputs": [],
   "source": [
    "from sklearn import preprocessing\n",
    "data_values = data_prepared.values #returns a numpy array\n",
    "min_max_scaler = preprocessing.MinMaxScaler()\n",
    "\n",
    "data_prepared = pd.DataFrame(min_max_scaler.fit_transform(data_prepared), columns=data_prepared.columns, index=data_prepared.index)"
   ]
  },
  {
   "cell_type": "markdown",
   "metadata": {
    "_cell_guid": "33e3dc4e-d937-4af6-bacf-40861689f05c",
    "_uuid": "41813c2a0cbac8d7b8b4000ef3171db05d4ebf23"
   },
   "source": [
    "## Final look at the  prepared data"
   ]
  },
  {
   "cell_type": "code",
   "execution_count": 15,
   "metadata": {
    "_cell_guid": "5bba5c59-e21c-40e0-9e53-13189d08ef24",
    "_uuid": "f17a6cc98b93c608d0f491a235659a6bb74ec326"
   },
   "outputs": [
    {
     "data": {
      "text/html": [
       "<div>\n",
       "<style scoped>\n",
       "    .dataframe tbody tr th:only-of-type {\n",
       "        vertical-align: middle;\n",
       "    }\n",
       "\n",
       "    .dataframe tbody tr th {\n",
       "        vertical-align: top;\n",
       "    }\n",
       "\n",
       "    .dataframe thead th {\n",
       "        text-align: right;\n",
       "    }\n",
       "</style>\n",
       "<table border=\"1\" class=\"dataframe\">\n",
       "  <thead>\n",
       "    <tr style=\"text-align: right;\">\n",
       "      <th></th>\n",
       "      <th>TempAvgF</th>\n",
       "      <th>DewPointAvgF</th>\n",
       "      <th>HumidityAvgPercent</th>\n",
       "      <th>SeaLevelPressureAvgInches</th>\n",
       "      <th>VisibilityAvgMiles</th>\n",
       "      <th>WindAvgMPH</th>\n",
       "      <th>PrecipitationSumInches</th>\n",
       "      <th>PrecipitationTrace</th>\n",
       "    </tr>\n",
       "  </thead>\n",
       "  <tbody>\n",
       "    <tr>\n",
       "      <th>0</th>\n",
       "      <td>0.484375</td>\n",
       "      <td>0.602941</td>\n",
       "      <td>0.685714</td>\n",
       "      <td>0.109244</td>\n",
       "      <td>0.625</td>\n",
       "      <td>0.272727</td>\n",
       "      <td>0.088462</td>\n",
       "      <td>0.0</td>\n",
       "    </tr>\n",
       "    <tr>\n",
       "      <th>1</th>\n",
       "      <td>0.296875</td>\n",
       "      <td>0.411765</td>\n",
       "      <td>0.585714</td>\n",
       "      <td>0.487395</td>\n",
       "      <td>1.000</td>\n",
       "      <td>0.454545</td>\n",
       "      <td>0.000000</td>\n",
       "      <td>0.0</td>\n",
       "    </tr>\n",
       "    <tr>\n",
       "      <th>2</th>\n",
       "      <td>0.250000</td>\n",
       "      <td>0.279412</td>\n",
       "      <td>0.357143</td>\n",
       "      <td>0.789916</td>\n",
       "      <td>1.000</td>\n",
       "      <td>0.181818</td>\n",
       "      <td>0.000000</td>\n",
       "      <td>0.0</td>\n",
       "    </tr>\n",
       "    <tr>\n",
       "      <th>3</th>\n",
       "      <td>0.265625</td>\n",
       "      <td>0.294118</td>\n",
       "      <td>0.414286</td>\n",
       "      <td>0.756303</td>\n",
       "      <td>1.000</td>\n",
       "      <td>0.272727</td>\n",
       "      <td>0.000000</td>\n",
       "      <td>0.0</td>\n",
       "    </tr>\n",
       "    <tr>\n",
       "      <th>4</th>\n",
       "      <td>0.328125</td>\n",
       "      <td>0.470588</td>\n",
       "      <td>0.628571</td>\n",
       "      <td>0.655462</td>\n",
       "      <td>1.000</td>\n",
       "      <td>0.090909</td>\n",
       "      <td>0.000000</td>\n",
       "      <td>1.0</td>\n",
       "    </tr>\n",
       "  </tbody>\n",
       "</table>\n",
       "</div>"
      ],
      "text/plain": [
       "   TempAvgF  DewPointAvgF  HumidityAvgPercent  SeaLevelPressureAvgInches  \\\n",
       "0  0.484375      0.602941            0.685714                   0.109244   \n",
       "1  0.296875      0.411765            0.585714                   0.487395   \n",
       "2  0.250000      0.279412            0.357143                   0.789916   \n",
       "3  0.265625      0.294118            0.414286                   0.756303   \n",
       "4  0.328125      0.470588            0.628571                   0.655462   \n",
       "\n",
       "   VisibilityAvgMiles  WindAvgMPH  PrecipitationSumInches  PrecipitationTrace  \n",
       "0               0.625    0.272727                0.088462                 0.0  \n",
       "1               1.000    0.454545                0.000000                 0.0  \n",
       "2               1.000    0.181818                0.000000                 0.0  \n",
       "3               1.000    0.272727                0.000000                 0.0  \n",
       "4               1.000    0.090909                0.000000                 1.0  "
      ]
     },
     "execution_count": 15,
     "metadata": {},
     "output_type": "execute_result"
    }
   ],
   "source": [
    "data_prepared.head()"
   ]
  },
  {
   "cell_type": "code",
   "execution_count": 16,
   "metadata": {
    "_cell_guid": "96e9f0e9-e33b-4a0b-ab08-2e4cc9691049",
    "_uuid": "22ca07b72bbfb1ccbc339a192c97932dbf99d716"
   },
   "outputs": [
    {
     "data": {
      "text/html": [
       "<div>\n",
       "<style scoped>\n",
       "    .dataframe tbody tr th:only-of-type {\n",
       "        vertical-align: middle;\n",
       "    }\n",
       "\n",
       "    .dataframe tbody tr th {\n",
       "        vertical-align: top;\n",
       "    }\n",
       "\n",
       "    .dataframe thead th {\n",
       "        text-align: right;\n",
       "    }\n",
       "</style>\n",
       "<table border=\"1\" class=\"dataframe\">\n",
       "  <thead>\n",
       "    <tr style=\"text-align: right;\">\n",
       "      <th></th>\n",
       "      <th>Rain</th>\n",
       "      <th>Thunderstorm</th>\n",
       "      <th>None</th>\n",
       "      <th>Snow</th>\n",
       "      <th>Fog</th>\n",
       "    </tr>\n",
       "  </thead>\n",
       "  <tbody>\n",
       "    <tr>\n",
       "      <th>0</th>\n",
       "      <td>True</td>\n",
       "      <td>True</td>\n",
       "      <td>False</td>\n",
       "      <td>False</td>\n",
       "      <td>False</td>\n",
       "    </tr>\n",
       "    <tr>\n",
       "      <th>1</th>\n",
       "      <td>False</td>\n",
       "      <td>False</td>\n",
       "      <td>True</td>\n",
       "      <td>False</td>\n",
       "      <td>False</td>\n",
       "    </tr>\n",
       "    <tr>\n",
       "      <th>2</th>\n",
       "      <td>False</td>\n",
       "      <td>False</td>\n",
       "      <td>True</td>\n",
       "      <td>False</td>\n",
       "      <td>False</td>\n",
       "    </tr>\n",
       "    <tr>\n",
       "      <th>3</th>\n",
       "      <td>False</td>\n",
       "      <td>False</td>\n",
       "      <td>True</td>\n",
       "      <td>False</td>\n",
       "      <td>False</td>\n",
       "    </tr>\n",
       "    <tr>\n",
       "      <th>4</th>\n",
       "      <td>False</td>\n",
       "      <td>False</td>\n",
       "      <td>True</td>\n",
       "      <td>False</td>\n",
       "      <td>False</td>\n",
       "    </tr>\n",
       "  </tbody>\n",
       "</table>\n",
       "</div>"
      ],
      "text/plain": [
       "    Rain  Thunderstorm   None   Snow    Fog\n",
       "0   True          True  False  False  False\n",
       "1  False         False   True  False  False\n",
       "2  False         False   True  False  False\n",
       "3  False         False   True  False  False\n",
       "4  False         False   True  False  False"
      ]
     },
     "execution_count": 16,
     "metadata": {},
     "output_type": "execute_result"
    }
   ],
   "source": [
    "events_prepared.head()"
   ]
  },
  {
   "cell_type": "markdown",
   "metadata": {
    "_cell_guid": "699f6779-98f5-47e8-8863-b5973ed5cb08",
    "_uuid": "1ab8c8e1f1148d7b82aed80a77e1af056bd6876d"
   },
   "source": [
    "## Train the model\n",
    "### Split the data into train and test sets"
   ]
  },
  {
   "cell_type": "code",
   "execution_count": 17,
   "metadata": {
    "_cell_guid": "185b896f-2521-4a2b-bf21-d0306a33c3c8",
    "_uuid": "3232197fb9b1b8caae751f3cd6274c2566cd9e70"
   },
   "outputs": [],
   "source": [
    "from sklearn.model_selection import train_test_split\n",
    "\n",
    "random_state = 42\n",
    "X_train, X_test = train_test_split(data_prepared, test_size=0.2, random_state=random_state)\n",
    "y_train, y_test = train_test_split(events_prepared, test_size=0.2, random_state=random_state)\n",
    "\n",
    "clusters_count = len(unique_events)"
   ]
  },
  {
   "cell_type": "markdown",
   "metadata": {
    "_cell_guid": "237b6f7c-6719-4810-9470-fe08d4364f41",
    "_uuid": "ac3fa9eae20e0e8463f13ada02d6aadb07eb4815"
   },
   "source": [
    "### Check if we can figure out events by discovering them using unsupervised learning techniques"
   ]
  },
  {
   "cell_type": "code",
   "execution_count": 18,
   "metadata": {
    "_cell_guid": "0d5a6815-353f-40fc-a101-1ec9df70afeb",
    "_uuid": "1d8c7632f1ac928953c83f30b2d57405f38f4dd9"
   },
   "outputs": [
    {
     "data": {
      "text/plain": [
       "<matplotlib.axes._subplots.AxesSubplot at 0x18a20d8ab00>"
      ]
     },
     "execution_count": 18,
     "metadata": {},
     "output_type": "execute_result"
    },
    {
     "data": {
      "image/png": "[encoded data removed]",
      "text/plain": [
       "<Figure size 432x288 with 1 Axes>"
      ]
     },
     "metadata": {
      "needs_background": "light"
     },
     "output_type": "display_data"
    }
   ],
   "source": [
    "from sklearn.cluster import KMeans\n",
    "kmeans = KMeans(n_clusters=clusters_count).fit(X_train)\n",
    "\n",
    "resultDf = pd.DataFrame(kmeans.labels_)\n",
    "resultDf.iloc[:,0].value_counts().plot.bar()\n",
    "#plt.hist(kmeans.labels_)"
   ]
  },
  {
   "cell_type": "code",
   "execution_count": 19,
   "metadata": {
    "_cell_guid": "910f952f-ac75-462b-919e-03408a8e3dfa",
    "_uuid": "6a205140ed2b417006926b6fee177fd508d87886"
   },
   "outputs": [
    {
     "data": {
      "text/plain": [
       "<matplotlib.axes._subplots.AxesSubplot at 0x18a20e3dfd0>"
      ]
     },
     "execution_count": 19,
     "metadata": {},
     "output_type": "execute_result"
    },
    {
     "data": {
      "image/png": "[encoded data removed]",
      "text/plain": [
       "<Figure size 432x288 with 1 Axes>"
      ]
     },
     "metadata": {
      "needs_background": "light"
     },
     "output_type": "display_data"
    }
   ],
   "source": [
    "from sklearn.cluster import AgglomerativeClustering\n",
    "\n",
    "ac = AgglomerativeClustering(n_clusters=clusters_count, linkage=\"average\").fit(X_train)\n",
    "resultDf = pd.DataFrame(ac.labels_)\n",
    "resultDf.iloc[:,0].value_counts().plot.bar()"
   ]
  },
  {
   "cell_type": "markdown",
   "metadata": {
    "_cell_guid": "636e4100-ca88-447e-8a8a-6b495a84ec75",
    "_uuid": "b2555a3621e352853e574b3efb93462bf2031a86"
   },
   "source": [
    "### Ground truth"
   ]
  },
  {
   "cell_type": "code",
   "execution_count": 20,
   "metadata": {
    "_cell_guid": "6d78fce4-6fe7-4cee-be69-9a67e22f09cd",
    "_uuid": "2195b859b9beb686b70eaacbfbe342743849bc95"
   },
   "outputs": [
    {
     "data": {
      "text/plain": [
       "<matplotlib.axes._subplots.AxesSubplot at 0x18a20ed5940>"
      ]
     },
     "execution_count": 20,
     "metadata": {},
     "output_type": "execute_result"
    },
    {
     "data": {
      "image/png": "[encoded data removed]",
      "text/plain": [
       "<Figure size 432x288 with 1 Axes>"
      ]
     },
     "metadata": {
      "needs_background": "light"
     },
     "output_type": "display_data"
    }
   ],
   "source": [
    "events_prepared.sum().sort_values(ascending=False).plot.bar()"
   ]
  },
  {
   "cell_type": "markdown",
   "metadata": {
    "_cell_guid": "899a1d05-c485-4a55-97c6-fbd9eb5ef1dd",
    "_uuid": "8794875c3f9bc5f191aa69067713a9fac3599c9a"
   },
   "source": [
    "As we can see AgglomerativeClustering did some nice work representing similar distribution of categories as for real data.\n",
    "\n",
    "However it can output only single event so we are unable to know that there will be Rain and Fog at the same time.\n",
    "\n",
    "## Multi-label clustering\n",
    "\n",
    "We need to calculate cluster centers. That way, for given new sample, we can measure distance from each cluster. Using some distance threshold we will be able to assign new data to one or more clusters.\n",
    "\n",
    "Let's have a look at these 2 charts:"
   ]
  },
  {
   "cell_type": "code",
   "execution_count": 21,
   "metadata": {
    "_cell_guid": "dc25f195-aaf3-4e05-867a-52ba4097cdf4",
    "_uuid": "9ee1c56f698e5be99cda8fd4a8f072a5ddeabc09"
   },
   "outputs": [
    {
     "data": {
      "text/plain": [
       "<matplotlib.axes._subplots.AxesSubplot at 0x18a20f6f240>"
      ]
     },
     "execution_count": 21,
     "metadata": {},
     "output_type": "execute_result"
    },
    {
     "data": {
      "image/png": "[encoded data removed]",
      "text/plain": [
       "<Figure size 1080x360 with 2 Axes>"
      ]
     },
     "metadata": {
      "needs_background": "light"
     },
     "output_type": "display_data"
    }
   ],
   "source": [
    "fig, ax = plt.subplots(1, 2, figsize=(15, 5))\n",
    "events_prepared.sum().sort_values(ascending=False).plot.bar(ax=ax[0], title=\"Real events that happened\")\n",
    "resultDf.iloc[:,0].value_counts().plot.bar(ax=ax[1], title=\"Histogram obtained from agglomerative clustering\")"
   ]
  },
  {
   "cell_type": "markdown",
   "metadata": {
    "_cell_guid": "69f68207-8769-495c-b2bd-366f959df600",
    "_uuid": "334e0117ed2e9b2304897234356fdeaefee091c7"
   },
   "source": [
    "We can now try to map cluster numbers to category names."
   ]
  },
  {
   "cell_type": "code",
   "execution_count": 22,
   "metadata": {
    "_cell_guid": "baa80052-df15-480c-a9f2-d745442f4e87",
    "_uuid": "07b03c58d05d70ab524c12c7b1140e51484b40d3",
    "scrolled": true
   },
   "outputs": [
    {
     "data": {
      "text/plain": [
       "{0: 'None', 4: 'Rain', 1: 'Thunderstorm', 3: 'Fog', 2: 'Snow'}"
      ]
     },
     "execution_count": 22,
     "metadata": {},
     "output_type": "execute_result"
    }
   ],
   "source": [
    "event_names_ordered = events_prepared.sum().sort_values(ascending=False).index\n",
    "clusters_ordered = resultDf.iloc[:,0].value_counts().index\n",
    "cluster_category_mapping = {}\n",
    "for i in range(clusters_count):\n",
    "    cluster_category_mapping.update({clusters_ordered[i]:event_names_ordered[i]})\n",
    "cluster_category_mapping"
   ]
  },
  {
   "cell_type": "markdown",
   "metadata": {
    "_cell_guid": "601b8737-58f2-410e-a84c-decea1686aa1",
    "_uuid": "dc5feeec08e224ca3c7683eaecde7e36601d24b2",
    "collapsed": true
   },
   "source": [
    "## Find clusters centroids to classify test data\n",
    "We need to have a way to classify new data on already trained clusters.\n",
    "\n",
    "We can do this by calculating clusters center and measure distance from each center "
   ]
  },
  {
   "cell_type": "code",
   "execution_count": 23,
   "metadata": {
    "_cell_guid": "fc22e9f8-1ca0-4741-aa53-b30890c61ada",
    "_uuid": "69a9f5fe60fb582b2d007f007bdd8cfc1bec4c03"
   },
   "outputs": [
    {
     "data": {
      "text/plain": [
       "{0: array([0.66684626, 0.71558485, 0.53737274, 0.39408867, 0.92715517,\n",
       "        0.36185998, 0.01333112, 0.        ]),\n",
       " 4: array([0.66259282, 0.7603378 , 0.62192362, 0.39995008, 0.9220297 ,\n",
       "        0.39423942, 0.        , 1.        ]),\n",
       " 1: array([0.37553879, 0.59077079, 0.81453202, 0.46479281, 0.47844828,\n",
       "        0.40125392, 0.06999337, 0.        ]),\n",
       " 3: array([0.690625  , 0.88431373, 0.85142857, 0.28403361, 0.46666667,\n",
       "        0.44242424, 0.59641026, 0.        ]),\n",
       " 2: array([0.015625  , 0.05882353, 0.3       , 0.83193277, 1.        ,\n",
       "        0.36363636, 0.        , 1.        ])}"
      ]
     },
     "execution_count": 23,
     "metadata": {},
     "output_type": "execute_result"
    }
   ],
   "source": [
    "cluster_centers_mapping = {}\n",
    "for key in cluster_category_mapping:\n",
    "    cluster_indices = resultDf.loc[resultDf[0] == key].index\n",
    "    cluster_data = X_train.iloc[cluster_indices]\n",
    "    mean = cluster_data.mean(axis=0).values\n",
    "    #print(\"\\n\" + cluster_category_mapping[key])\n",
    "    #print(mean)\n",
    "    cluster_centers_mapping.update({key:mean})\n",
    "cluster_centers_mapping"
   ]
  },
  {
   "cell_type": "markdown",
   "metadata": {
    "_cell_guid": "bf47d140-c473-4ae8-9d5d-00cf40d0be57",
    "_uuid": "dd0922f3bd4b7c73b349a9e962fcf707cb0a194b"
   },
   "source": [
    "We now need to calculate distances between these centroids and our data points"
   ]
  },
  {
   "cell_type": "code",
   "execution_count": 24,
   "metadata": {
    "_cell_guid": "549296bf-0413-4e10-9036-c611c3b8d6b7",
    "_uuid": "b3bfd06130d91edc6390086886b7bb808dbb7ff0"
   },
   "outputs": [
    {
     "data": {
      "text/html": [
       "<div>\n",
       "<style scoped>\n",
       "    .dataframe tbody tr th:only-of-type {\n",
       "        vertical-align: middle;\n",
       "    }\n",
       "\n",
       "    .dataframe tbody tr th {\n",
       "        vertical-align: top;\n",
       "    }\n",
       "\n",
       "    .dataframe thead th {\n",
       "        text-align: right;\n",
       "    }\n",
       "</style>\n",
       "<table border=\"1\" class=\"dataframe\">\n",
       "  <thead>\n",
       "    <tr style=\"text-align: right;\">\n",
       "      <th></th>\n",
       "      <th>None</th>\n",
       "      <th>Rain</th>\n",
       "      <th>Thunderstorm</th>\n",
       "      <th>Fog</th>\n",
       "      <th>Snow</th>\n",
       "    </tr>\n",
       "  </thead>\n",
       "  <tbody>\n",
       "    <tr>\n",
       "      <th>1304</th>\n",
       "      <td>1.076076</td>\n",
       "      <td>1.362176</td>\n",
       "      <td>1.393672</td>\n",
       "      <td>1.370068</td>\n",
       "      <td>0.410872</td>\n",
       "    </tr>\n",
       "    <tr>\n",
       "      <th>547</th>\n",
       "      <td>0.545300</td>\n",
       "      <td>0.611610</td>\n",
       "      <td>1.757403</td>\n",
       "      <td>0.511271</td>\n",
       "      <td>1.114620</td>\n",
       "    </tr>\n",
       "    <tr>\n",
       "      <th>293</th>\n",
       "      <td>0.356203</td>\n",
       "      <td>0.856249</td>\n",
       "      <td>1.684327</td>\n",
       "      <td>0.875558</td>\n",
       "      <td>1.052542</td>\n",
       "    </tr>\n",
       "    <tr>\n",
       "      <th>10</th>\n",
       "      <td>0.771528</td>\n",
       "      <td>0.883183</td>\n",
       "      <td>1.128419</td>\n",
       "      <td>1.326534</td>\n",
       "      <td>1.298398</td>\n",
       "    </tr>\n",
       "    <tr>\n",
       "      <th>147</th>\n",
       "      <td>0.388148</td>\n",
       "      <td>0.800786</td>\n",
       "      <td>1.494443</td>\n",
       "      <td>0.964510</td>\n",
       "      <td>1.075485</td>\n",
       "    </tr>\n",
       "  </tbody>\n",
       "</table>\n",
       "</div>"
      ],
      "text/plain": [
       "          None      Rain  Thunderstorm       Fog      Snow\n",
       "1304  1.076076  1.362176      1.393672  1.370068  0.410872\n",
       "547   0.545300  0.611610      1.757403  0.511271  1.114620\n",
       "293   0.356203  0.856249      1.684327  0.875558  1.052542\n",
       "10    0.771528  0.883183      1.128419  1.326534  1.298398\n",
       "147   0.388148  0.800786      1.494443  0.964510  1.075485"
      ]
     },
     "execution_count": 24,
     "metadata": {},
     "output_type": "execute_result"
    }
   ],
   "source": [
    "def get_distances_from_cluster(data_frame):\n",
    "    cluster_distance = np.zeros((data_frame.shape[0], clusters_count))\n",
    "    #cluster_distance\n",
    "    for i in range(data_frame.shape[0]):\n",
    "        #print(X_test.iloc[[i]].values[0])\n",
    "        for key in cluster_category_mapping:\n",
    "            dist = np.linalg.norm(data_frame.iloc[[i]].values[0]-cluster_centers_mapping[key])\n",
    "            cluster_distance[i,key] = dist\n",
    "            #print(dist)\n",
    "    column_names = [cluster_category_mapping[k] for k in cluster_category_mapping]\n",
    "    #column_names\n",
    "\n",
    "    return pd.DataFrame(cluster_distance, index=data_frame.index, columns=column_names)\n",
    "\n",
    "distancesDf = get_distances_from_cluster(X_train)\n",
    "distancesDf.head()"
   ]
  },
  {
   "cell_type": "markdown",
   "metadata": {
    "_cell_guid": "d20a3ce5-423c-4ac8-ab85-fcd5f92206ed",
    "_uuid": "0434d50ff5173e1ae21ade495c3acaea89595bde"
   },
   "source": [
    "Column with minimum distance is our classification. But to have ability to classify a record to both clusters, we can add some tolerance. \n",
    "For example \n",
    "> Data point belongs to cluster if distance from cluster is smaller than minimum distance * 1.2"
   ]
  },
  {
   "cell_type": "code",
   "execution_count": 25,
   "metadata": {
    "_cell_guid": "2aa5266a-eecb-48c5-9d21-8c0569b78aab",
    "_uuid": "b30d2bc40a9f09b8d6808512a7a258bec7f3be54"
   },
   "outputs": [],
   "source": [
    "def classify_events(distances_dataFrame):\n",
    "    return distances_dataFrame.apply(lambda x: x<x.min()*1.02, axis=1)\n",
    "\n",
    "classification_result = classify_events(distancesDf)\n",
    "X_train_col_ordered = classification_result.reindex(sorted(classification_result.columns), axis=1)\n",
    "y_train_col_ordered = y_train.reindex(sorted(y_train.columns), axis=1)\n",
    "\n",
    "#check if all columns and all rows are equal in both datasets\n",
    "def check_accuracy(X, y):    \n",
    "    comparison = X == y\n",
    "\n",
    "    val_counts = comparison.all(axis=1).value_counts()\n",
    "    percentageCorrect = val_counts.at[True] / X.shape[0] * 100\n",
    "    return percentageCorrect\n",
    "    "
   ]
  },
  {
   "cell_type": "code",
   "execution_count": 26,
   "metadata": {
    "_cell_guid": "e53d088e-dfdd-43fc-b08b-5546788920a7",
    "_uuid": "24b97ebb8d3cc6435566c8932fcdf4e198e245cc"
   },
   "outputs": [
    {
     "data": {
      "text/plain": [
       "65.07177033492823"
      ]
     },
     "execution_count": 26,
     "metadata": {},
     "output_type": "execute_result"
    }
   ],
   "source": [
    "check_accuracy(X_train_col_ordered, y_train_col_ordered)"
   ]
  },
  {
   "cell_type": "code",
   "execution_count": 27,
   "metadata": {
    "_cell_guid": "a3f49c60-0dac-46bd-baec-4e286216289e",
    "_uuid": "b3a4ab390f12abd68beffc712311d8227e41e11d"
   },
   "outputs": [
    {
     "data": {
      "text/html": [
       "<div>\n",
       "<style scoped>\n",
       "    .dataframe tbody tr th:only-of-type {\n",
       "        vertical-align: middle;\n",
       "    }\n",
       "\n",
       "    .dataframe tbody tr th {\n",
       "        vertical-align: top;\n",
       "    }\n",
       "\n",
       "    .dataframe thead th {\n",
       "        text-align: right;\n",
       "    }\n",
       "</style>\n",
       "<table border=\"1\" class=\"dataframe\">\n",
       "  <thead>\n",
       "    <tr style=\"text-align: right;\">\n",
       "      <th></th>\n",
       "      <th>Fog</th>\n",
       "      <th>None</th>\n",
       "      <th>Rain</th>\n",
       "      <th>Snow</th>\n",
       "      <th>Thunderstorm</th>\n",
       "    </tr>\n",
       "  </thead>\n",
       "  <tbody>\n",
       "    <tr>\n",
       "      <th>1304</th>\n",
       "      <td>False</td>\n",
       "      <td>False</td>\n",
       "      <td>False</td>\n",
       "      <td>True</td>\n",
       "      <td>False</td>\n",
       "    </tr>\n",
       "    <tr>\n",
       "      <th>547</th>\n",
       "      <td>True</td>\n",
       "      <td>False</td>\n",
       "      <td>False</td>\n",
       "      <td>False</td>\n",
       "      <td>False</td>\n",
       "    </tr>\n",
       "    <tr>\n",
       "      <th>293</th>\n",
       "      <td>False</td>\n",
       "      <td>True</td>\n",
       "      <td>False</td>\n",
       "      <td>False</td>\n",
       "      <td>False</td>\n",
       "    </tr>\n",
       "    <tr>\n",
       "      <th>10</th>\n",
       "      <td>False</td>\n",
       "      <td>True</td>\n",
       "      <td>False</td>\n",
       "      <td>False</td>\n",
       "      <td>False</td>\n",
       "    </tr>\n",
       "    <tr>\n",
       "      <th>147</th>\n",
       "      <td>False</td>\n",
       "      <td>True</td>\n",
       "      <td>False</td>\n",
       "      <td>False</td>\n",
       "      <td>False</td>\n",
       "    </tr>\n",
       "  </tbody>\n",
       "</table>\n",
       "</div>"
      ],
      "text/plain": [
       "        Fog   None   Rain   Snow  Thunderstorm\n",
       "1304  False  False  False   True         False\n",
       "547    True  False  False  False         False\n",
       "293   False   True  False  False         False\n",
       "10    False   True  False  False         False\n",
       "147   False   True  False  False         False"
      ]
     },
     "execution_count": 27,
     "metadata": {},
     "output_type": "execute_result"
    }
   ],
   "source": [
    "X_train_col_ordered.head()"
   ]
  },
  {
   "cell_type": "code",
   "execution_count": 28,
   "metadata": {
    "_cell_guid": "c3c4557c-1e4e-4d0a-9944-bcc52d9425b9",
    "_uuid": "8d3f25ff54b65e2df2caff05af7ef8b68a12e8e2"
   },
   "outputs": [
    {
     "data": {
      "text/html": [
       "<div>\n",
       "<style scoped>\n",
       "    .dataframe tbody tr th:only-of-type {\n",
       "        vertical-align: middle;\n",
       "    }\n",
       "\n",
       "    .dataframe tbody tr th {\n",
       "        vertical-align: top;\n",
       "    }\n",
       "\n",
       "    .dataframe thead th {\n",
       "        text-align: right;\n",
       "    }\n",
       "</style>\n",
       "<table border=\"1\" class=\"dataframe\">\n",
       "  <thead>\n",
       "    <tr style=\"text-align: right;\">\n",
       "      <th></th>\n",
       "      <th>Fog</th>\n",
       "      <th>None</th>\n",
       "      <th>Rain</th>\n",
       "      <th>Snow</th>\n",
       "      <th>Thunderstorm</th>\n",
       "    </tr>\n",
       "  </thead>\n",
       "  <tbody>\n",
       "    <tr>\n",
       "      <th>1304</th>\n",
       "      <td>False</td>\n",
       "      <td>False</td>\n",
       "      <td>True</td>\n",
       "      <td>False</td>\n",
       "      <td>True</td>\n",
       "    </tr>\n",
       "    <tr>\n",
       "      <th>547</th>\n",
       "      <td>True</td>\n",
       "      <td>False</td>\n",
       "      <td>True</td>\n",
       "      <td>False</td>\n",
       "      <td>True</td>\n",
       "    </tr>\n",
       "    <tr>\n",
       "      <th>293</th>\n",
       "      <td>False</td>\n",
       "      <td>True</td>\n",
       "      <td>False</td>\n",
       "      <td>False</td>\n",
       "      <td>False</td>\n",
       "    </tr>\n",
       "    <tr>\n",
       "      <th>10</th>\n",
       "      <td>False</td>\n",
       "      <td>True</td>\n",
       "      <td>False</td>\n",
       "      <td>False</td>\n",
       "      <td>False</td>\n",
       "    </tr>\n",
       "    <tr>\n",
       "      <th>147</th>\n",
       "      <td>False</td>\n",
       "      <td>True</td>\n",
       "      <td>False</td>\n",
       "      <td>False</td>\n",
       "      <td>False</td>\n",
       "    </tr>\n",
       "  </tbody>\n",
       "</table>\n",
       "</div>"
      ],
      "text/plain": [
       "        Fog   None   Rain   Snow  Thunderstorm\n",
       "1304  False  False   True  False          True\n",
       "547    True  False   True  False          True\n",
       "293   False   True  False  False         False\n",
       "10    False   True  False  False         False\n",
       "147   False   True  False  False         False"
      ]
     },
     "execution_count": 28,
     "metadata": {},
     "output_type": "execute_result"
    }
   ],
   "source": [
    "y_train_col_ordered.head()"
   ]
  },
  {
   "cell_type": "markdown",
   "metadata": {
    "_cell_guid": "5530927c-87ba-4f2c-9026-1eb596ce040e",
    "_uuid": "b85e05b701b578e5e3c7dcee135cb7ed9d49a297"
   },
   "source": [
    "## Predicted weather events based on agglomerative clustering with unsupervised learning"
   ]
  },
  {
   "cell_type": "code",
   "execution_count": 29,
   "metadata": {
    "_cell_guid": "35c9b26c-21e1-4c25-ad4d-09497ce825e0",
    "_uuid": "0d91ed76667eac2054b9e304f4c9918f2fd3bdf8"
   },
   "outputs": [
    {
     "data": {
      "text/plain": [
       "<matplotlib.axes._subplots.AxesSubplot at 0x18a210a9390>"
      ]
     },
     "execution_count": 29,
     "metadata": {},
     "output_type": "execute_result"
    },
    {
     "data": {
      "image/png": "[encoded data removed]",
      "text/plain": [
       "<Figure size 1080x360 with 2 Axes>"
      ]
     },
     "metadata": {
      "needs_background": "light"
     },
     "output_type": "display_data"
    }
   ],
   "source": [
    "fig, ax = plt.subplots(1, 2, figsize=(15, 5))\n",
    "y_train_col_ordered.sum().plot.bar(ax=ax[0], title=\"Real events that happened\")\n",
    "X_train_col_ordered.sum().plot.bar(ax=ax[1], title=\"Predicted events\")\n",
    "#resultDf.iloc[:,0].value_counts().plot.bar(ax=ax[1], title=\"Histogram obtained from agglomerative clustering\")"
   ]
  },
  {
   "cell_type": "code",
   "execution_count": 30,
   "metadata": {
    "_cell_guid": "591db4ec-a08b-4ad5-8866-302879bff0ce",
    "_uuid": "295a51ffe799465060b8894af1990d38ed3242b1"
   },
   "outputs": [
    {
     "data": {
      "text/plain": [
       "<matplotlib.axes._subplots.AxesSubplot at 0x18a2106bc18>"
      ]
     },
     "execution_count": 30,
     "metadata": {},
     "output_type": "execute_result"
    },
    {
     "data": {
      "image/png": "[encoded data removed]",
      "text/plain": [
       "<Figure size 1080x360 with 2 Axes>"
      ]
     },
     "metadata": {
      "needs_background": "light"
     },
     "output_type": "display_data"
    }
   ],
   "source": [
    "distancesDf = get_distances_from_cluster(X_test)\n",
    "classification_result = classify_events(distancesDf)\n",
    "X_test_col_ordered = classification_result.reindex(sorted(classification_result.columns), axis=1)\n",
    "y_test_col_ordered = y_test.reindex(sorted(y_train.columns), axis=1)\n",
    "\n",
    "fig, ax = plt.subplots(1, 2, figsize=(15, 5))\n",
    "y_test_col_ordered.sum().plot.bar(ax=ax[0], title=\"Real events that happened\")\n",
    "X_test_col_ordered.sum().plot.bar(ax=ax[1], title=\"Predicted events\")"
   ]
  },
  {
   "cell_type": "code",
   "execution_count": 31,
   "metadata": {
    "_cell_guid": "a9c343d2-dfa4-4f22-bbfe-6c2257054a9e",
    "_uuid": "f7d3763dc6cdf2e1b566864b6da3888e57383585"
   },
   "outputs": [
    {
     "data": {
      "text/plain": [
       "69.46564885496184"
      ]
     },
     "execution_count": 31,
     "metadata": {},
     "output_type": "execute_result"
    }
   ],
   "source": [
    "check_accuracy(X_test_col_ordered, y_test_col_ordered)"
   ]
  },
  {
   "cell_type": "code",
   "execution_count": null,
   "metadata": {
    "_cell_guid": "4e38ee38-2256-4e29-9139-3f272f360df4",
    "_uuid": "df442b46ef99ec36ae74accd4dd32809458ded38"
   },
   "outputs": [],
   "source": []
  }
 ],
 "metadata": {
  "kernelspec": {
   "display_name": "Python 3",
   "language": "python",
   "name": "python3"
  },
  "language_info": {
   "codemirror_mode": {
    "name": "ipython",
    "version": 3
   },
   "file_extension": ".py",
   "mimetype": "text/x-python",
   "name": "python",
   "nbconvert_exporter": "python",
   "pygments_lexer": "ipython3",
   "version": "3.7.0"
  }
 },
 "nbformat": 4,
 "nbformat_minor": 1
}
